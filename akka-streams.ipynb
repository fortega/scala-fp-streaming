{
 "cells": [
  {
   "cell_type": "code",
   "execution_count": null,
   "metadata": {
    "scrolled": true
   },
   "outputs": [],
   "source": [
    "import $ivy.`com.typesafe.akka:akka-stream_2.13:2.5.31`\n",
    "import $ivy.`com.lightbend.akka:akka-stream-alpakka-amqp_2.13:2.0.2`"
   ]
  },
  {
   "cell_type": "code",
   "execution_count": null,
   "metadata": {},
   "outputs": [],
   "source": [
    "import akka.actor.ActorSystem\n",
    "import scala.util.{Success, Failure}\n",
    "import akka.stream.scaladsl._\n",
    "import akka.stream.alpakka.amqp.{AmqpDetailsConnectionProvider, NamedQueueSourceSettings, QueueDeclaration}\n",
    "import akka.stream.alpakka.amqp.scaladsl.AmqpSource\n",
    "\n",
    "implicit val system = ActorSystem()\n",
    "implicit val ec = scala.concurrent.ExecutionContext.global"
   ]
  },
  {
   "cell_type": "code",
   "execution_count": null,
   "metadata": {},
   "outputs": [],
   "source": [
    "val amqpHost = \"rabbit\"\n",
    "val amqpPort = 5672\n",
    "val queueName = \"test\"\n",
    "val queueDeclaration = QueueDeclaration(queueName)\n",
    "val source = AmqpSource.atMostOnceSource(\n",
    "    NamedQueueSourceSettings(AmqpDetailsConnectionProvider(amqpHost, amqpPort), queueName)\n",
    "    .withDeclaration(queueDeclaration)\n",
    "    .withAckRequired(false),\n",
    "    bufferSize = 10)"
   ]
  },
  {
   "cell_type": "code",
   "execution_count": null,
   "metadata": {},
   "outputs": [],
   "source": [
    "source.\n",
    "    take(1).\n",
    "    map(_.bytes.utf8String).\n",
    "    mapConcat(_.split(\",\").toList).\n",
    "    runWith(Sink.seq)"
   ]
  },
  {
   "cell_type": "code",
   "execution_count": null,
   "metadata": {},
   "outputs": [],
   "source": []
  }
 ],
 "metadata": {
  "kernelspec": {
   "display_name": "Scala 2.13",
   "language": "scala",
   "name": "scala213"
  },
  "language_info": {
   "codemirror_mode": "text/x-scala",
   "file_extension": ".sc",
   "mimetype": "text/x-scala",
   "name": "scala",
   "nbconvert_exporter": "script",
   "version": "2.13.3"
  }
 },
 "nbformat": 4,
 "nbformat_minor": 4
}
