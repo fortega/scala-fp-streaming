{
 "cells": [
  {
   "cell_type": "code",
   "execution_count": 1,
   "metadata": {
    "collapsed": true
   },
   "outputs": [
    {
     "data": {
      "text/plain": [
       "\u001b[32mimport \u001b[39m\u001b[36m$ivy.$                                          \n",
       "\u001b[39m\n",
       "\u001b[32mimport \u001b[39m\u001b[36m$ivy.$                                                       \u001b[39m"
      ]
     },
     "execution_count": 1,
     "metadata": {},
     "output_type": "execute_result"
    }
   ],
   "source": [
    "import $ivy.`com.typesafe.akka:akka-stream_2.13:2.5.31`\n",
    "import $ivy.`com.lightbend.akka:akka-stream-alpakka-amqp_2.13:2.0.2`"
   ]
  },
  {
   "cell_type": "code",
   "execution_count": 2,
   "metadata": {
    "collapsed": true
   },
   "outputs": [
    {
     "data": {
      "text/plain": [
       "\u001b[32mimport \u001b[39m\u001b[36makka.actor.ActorSystem\n",
       "\u001b[39m\n",
       "\u001b[32mimport \u001b[39m\u001b[36makka.stream.scaladsl.Sink\n",
       "\u001b[39m\n",
       "\u001b[32mimport \u001b[39m\u001b[36makka.stream.alpakka.amqp.{\n",
       "    AmqpDetailsConnectionProvider,\n",
       "    NamedQueueSourceSettings,\n",
       "    ReadResult,\n",
       "    QueueDeclaration\n",
       "}\n",
       "\u001b[39m\n",
       "\u001b[32mimport \u001b[39m\u001b[36makka.stream.alpakka.amqp.scaladsl.AmqpSource\n",
       "\n",
       "// actor system\n",
       "\u001b[39m\n",
       "\u001b[36msystem\u001b[39m: \u001b[32mActorSystem\u001b[39m = akka://default"
      ]
     },
     "execution_count": 2,
     "metadata": {},
     "output_type": "execute_result"
    }
   ],
   "source": [
    "import akka.actor.ActorSystem\n",
    "import akka.stream.scaladsl.Sink\n",
    "import akka.stream.alpakka.amqp.{\n",
    "    AmqpDetailsConnectionProvider,\n",
    "    NamedQueueSourceSettings,\n",
    "    ReadResult,\n",
    "    QueueDeclaration\n",
    "}\n",
    "import akka.stream.alpakka.amqp.scaladsl.AmqpSource\n",
    "\n",
    "// actor system\n",
    "implicit val system = ActorSystem()"
   ]
  },
  {
   "cell_type": "code",
   "execution_count": 3,
   "metadata": {
    "collapsed": true
   },
   "outputs": [
    {
     "data": {
      "text/plain": [
       "\u001b[36mamqpHost\u001b[39m: \u001b[32mString\u001b[39m = \u001b[32m\"rabbit\"\u001b[39m\n",
       "\u001b[36mamqpPort\u001b[39m: \u001b[32mInt\u001b[39m = \u001b[32m5672\u001b[39m\n",
       "\u001b[36mqueueName\u001b[39m: \u001b[32mString\u001b[39m = \u001b[32m\"test\"\u001b[39m\n",
       "\u001b[36mqueueDeclaration\u001b[39m: \u001b[32mQueueDeclaration\u001b[39m = QueueDeclaration(name=test, durable=false, exclusive=false, autoDelete=false, arguments=Map())"
      ]
     },
     "execution_count": 3,
     "metadata": {},
     "output_type": "execute_result"
    }
   ],
   "source": [
    "val amqpHost = \"rabbit\"\n",
    "val amqpPort = 5672\n",
    "val queueName = \"test\"\n",
    "val queueDeclaration = QueueDeclaration(queueName)"
   ]
  },
  {
   "cell_type": "code",
   "execution_count": 4,
   "metadata": {
    "collapsed": true
   },
   "outputs": [
    {
     "data": {
      "text/plain": [
       "\u001b[36msource\u001b[39m: \u001b[32makka\u001b[39m.\u001b[32mstream\u001b[39m.\u001b[32mscaladsl\u001b[39m.\u001b[32mSource\u001b[39m[\u001b[32mReadResult\u001b[39m, \u001b[32makka\u001b[39m.\u001b[32mNotUsed\u001b[39m] = Source(SourceShape(MapAsyncUnordered.out(1119572912)))"
      ]
     },
     "execution_count": 4,
     "metadata": {},
     "output_type": "execute_result"
    }
   ],
   "source": [
    "val source = AmqpSource.atMostOnceSource(\n",
    "    NamedQueueSourceSettings(AmqpDetailsConnectionProvider(amqpHost, amqpPort), queueName)\n",
    "    .withDeclaration(queueDeclaration)\n",
    "    .withAckRequired(false),\n",
    "    bufferSize = 10)"
   ]
  },
  {
   "cell_type": "code",
   "execution_count": 5,
   "metadata": {},
   "outputs": [
    {
     "data": {
      "text/html": [
       "<div class=\"jp-RenderedText\">\n",
       "<pre><code><span style=\"color: rgb(0, 187, 187)\"><span class=\"ansi-cyan-fg\">res4</span></span>: <span style=\"color: rgb(0, 187, 0)\"><span class=\"ansi-green-fg\">concurrent</span></span>.<span style=\"color: rgb(0, 187, 0)\"><span class=\"ansi-green-fg\">Future</span></span>[<span style=\"color: rgb(0, 187, 0)\"><span class=\"ansi-green-fg\">Seq</span></span>[<span style=\"color: rgb(0, 187, 0)\"><span class=\"ansi-green-fg\">String</span></span>]] = <span style=\"color: rgb(0, 187, 0)\"><span class=\"ansi-green-fg\"><style>@keyframes fadein { from { opacity: 0; } to { opacity: 1; } }</style><span style=\"animation: fadein 2s;\"><span style=\"color: yellow\"><span class=\"ansi-yellow-fg\">Success</span></span>(\n",
       "  <span style=\"color: yellow\"><span class=\"ansi-yellow-fg\">Vector</span></span>(\n",
       "    <span style=\"color: rgb(0, 187, 0)\"><span class=\"ansi-green-fg\">&quot;hola&quot;</span></span>,\n",
       "    <span style=\"color: rgb(0, 187, 0)\"><span class=\"ansi-green-fg\">&quot;mundo&quot;</span></span>,\n",
       "    <span style=\"color: rgb(0, 187, 0)\"><span class=\"ansi-green-fg\">&quot;1&quot;</span></span>,\n",
       "    <span style=\"color: rgb(0, 187, 0)\"><span class=\"ansi-green-fg\">&quot;hola&quot;</span></span>,\n",
       "    <span style=\"color: rgb(0, 187, 0)\"><span class=\"ansi-green-fg\">&quot;mundo&quot;</span></span>,\n",
       "    <span style=\"color: rgb(0, 187, 0)\"><span class=\"ansi-green-fg\">&quot;2&quot;</span></span>,\n",
       "    <span style=\"color: rgb(0, 187, 0)\"><span class=\"ansi-green-fg\">&quot;hola&quot;</span></span>,\n",
       "    <span style=\"color: rgb(0, 187, 0)\"><span class=\"ansi-green-fg\">&quot;mundo&quot;</span></span>,\n",
       "    <span style=\"color: rgb(0, 187, 0)\"><span class=\"ansi-green-fg\">&quot;3&quot;</span></span>,\n",
       "    <span style=\"color: rgb(0, 187, 0)\"><span class=\"ansi-green-fg\">&quot;hola&quot;</span></span>,\n",
       "    <span style=\"color: rgb(0, 187, 0)\"><span class=\"ansi-green-fg\">&quot;mundo&quot;</span></span>,\n",
       "    <span style=\"color: rgb(0, 187, 0)\"><span class=\"ansi-green-fg\">&quot;4&quot;</span></span>,\n",
       "    <span style=\"color: rgb(0, 187, 0)\"><span class=\"ansi-green-fg\">&quot;hola&quot;</span></span>,\n",
       "    <span style=\"color: rgb(0, 187, 0)\"><span class=\"ansi-green-fg\">&quot;mundo&quot;</span></span>,\n",
       "    <span style=\"color: rgb(0, 187, 0)\"><span class=\"ansi-green-fg\">&quot;5&quot;</span></span>,\n",
       "    <span style=\"color: rgb(0, 187, 0)\"><span class=\"ansi-green-fg\">&quot;hola&quot;</span></span>,\n",
       "    <span style=\"color: rgb(0, 187, 0)\"><span class=\"ansi-green-fg\">&quot;mundo&quot;</span></span>,\n",
       "    <span style=\"color: rgb(0, 187, 0)\"><span class=\"ansi-green-fg\">&quot;6&quot;</span></span>,\n",
       "    <span style=\"color: rgb(0, 187, 0)\"><span class=\"ansi-green-fg\">&quot;hola&quot;</span></span>,\n",
       "    <span style=\"color: rgb(0, 187, 0)\"><span class=\"ansi-green-fg\">&quot;mundo&quot;</span></span>,\n",
       "    <span style=\"color: rgb(0, 187, 0)\"><span class=\"ansi-green-fg\">&quot;7&quot;</span></span>,\n",
       "    <span style=\"color: rgb(0, 187, 0)\"><span class=\"ansi-green-fg\">&quot;hola&quot;</span></span>,\n",
       "    <span style=\"color: rgb(0, 187, 0)\"><span class=\"ansi-green-fg\">&quot;mundo&quot;</span></span>,\n",
       "    <span style=\"color: rgb(0, 187, 0)\"><span class=\"ansi-green-fg\">&quot;8&quot;</span></span>,\n",
       "    <span style=\"color: rgb(0, 187, 0)\"><span class=\"ansi-green-fg\">&quot;hola&quot;</span></span>,\n",
       "    <span style=\"color: rgb(0, 187, 0)\"><span class=\"ansi-green-fg\">&quot;mundo&quot;</span></span>,\n",
       "    <span style=\"color: rgb(0, 187, 0)\"><span class=\"ansi-green-fg\">&quot;9&quot;</span></span>,\n",
       "    <span style=\"color: rgb(0, 187, 0)\"><span class=\"ansi-green-fg\">&quot;hola&quot;</span></span>,\n",
       "    <span style=\"color: rgb(0, 187, 0)\"><span class=\"ansi-green-fg\">&quot;mundo&quot;</span></span>,\n",
       "    <span style=\"color: rgb(0, 187, 0)\"><span class=\"ansi-green-fg\">&quot;10&quot;</span></span>\n",
       "  )\n",
       ")</span></span></span></code></pre>\n",
       "</div>"
      ],
      "text/plain": [
       "\u001b[36mres4\u001b[39m: \u001b[32mconcurrent\u001b[39m.\u001b[32mFuture\u001b[39m[\u001b[32mSeq\u001b[39m[\u001b[32mString\u001b[39m]] = \u001b[32m\u001b[33mSuccess\u001b[39m(\n",
       "  \u001b[33mVector\u001b[39m(\n",
       "    \u001b[32m\"hola\"\u001b[39m,\n",
       "    \u001b[32m\"mundo\"\u001b[39m,\n",
       "    \u001b[32m\"1\"\u001b[39m,\n",
       "    \u001b[32m\"hola\"\u001b[39m,\n",
       "    \u001b[32m\"mundo\"\u001b[39m,\n",
       "    \u001b[32m\"2\"\u001b[39m,\n",
       "    \u001b[32m\"hola\"\u001b[39m,\n",
       "    \u001b[32m\"mundo\"\u001b[39m,\n",
       "    \u001b[32m\"3\"\u001b[39m,\n",
       "    \u001b[32m\"hola\"\u001b[39m,\n",
       "    \u001b[32m\"mundo\"\u001b[39m,\n",
       "    \u001b[32m\"4\"\u001b[39m,\n",
       "    \u001b[32m\"hola\"\u001b[39m,\n",
       "    \u001b[32m\"mundo\"\u001b[39m,\n",
       "    \u001b[32m\"5\"\u001b[39m,\n",
       "    \u001b[32m\"hola\"\u001b[39m,\n",
       "    \u001b[32m\"mundo\"\u001b[39m,\n",
       "    \u001b[32m\"6\"\u001b[39m,\n",
       "    \u001b[32m\"hola\"\u001b[39m,\n",
       "    \u001b[32m\"mundo\"\u001b[39m,\n",
       "    \u001b[32m\"7\"\u001b[39m,\n",
       "    \u001b[32m\"hola\"\u001b[39m,\n",
       "    \u001b[32m\"mundo\"\u001b[39m,\n",
       "    \u001b[32m\"8\"\u001b[39m,\n",
       "    \u001b[32m\"hola\"\u001b[39m,\n",
       "    \u001b[32m\"mundo\"\u001b[39m,\n",
       "    \u001b[32m\"9\"\u001b[39m,\n",
       "    \u001b[32m\"hola\"\u001b[39m,\n",
       "    \u001b[32m\"mundo\"\u001b[39m,\n",
       "    \u001b[32m\"10\"\u001b[39m\n",
       "  )\n",
       ")\u001b[39m"
      ]
     },
     "metadata": {},
     "output_type": "display_data"
    }
   ],
   "source": [
    "// pipe\n",
    "source\n",
    "    .take(10)\n",
    "    .map { t => t.bytes.utf8String }\n",
    "    .mapConcat { t => t.split(\" \").toList }\n",
    "    .runWith(Sink.seq)"
   ]
  },
  {
   "cell_type": "code",
   "execution_count": null,
   "metadata": {},
   "outputs": [],
   "source": []
  }
 ],
 "metadata": {
  "kernelspec": {
   "display_name": "Scala 2.13",
   "language": "scala",
   "name": "scala213"
  },
  "language_info": {
   "codemirror_mode": "text/x-scala",
   "file_extension": ".sc",
   "mimetype": "text/x-scala",
   "name": "scala",
   "nbconvert_exporter": "script",
   "version": "2.13.3"
  }
 },
 "nbformat": 4,
 "nbformat_minor": 4
}
