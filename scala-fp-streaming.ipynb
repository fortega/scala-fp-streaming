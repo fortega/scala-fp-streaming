{
 "cells": [
  {
   "cell_type": "markdown",
   "metadata": {},
   "source": [
    "# Indice\n",
    "\n",
    "* Mi viaje en programacion: procedural -> orientada a objetos -> funcional\n",
    "* MapReduce como simplificacion de la computacion distribuida\n",
    "* Reglas para distribuir el trabajo:\n",
    "    * Funciones puras (solo constantes)\n",
    "    * Sin Excepciones (Monads: Option y Try)\n",
    "* Practica local\n",
    "    * Colecciones inmutables: List\n",
    "    * map\n",
    "    * flatMap\n",
    "    * reduce\n",
    "* En streaming\n",
    "    * akka-streams\n",
    "    * dataflow / scio\n",
    "    * apache spark"
   ]
  },
  {
   "cell_type": "markdown",
   "metadata": {},
   "source": [
    "# Mi viaje: Basic -> C# -> Scala\n",
    "\n",
    "## Procedural\n",
    "GOTO?\n",
    "\n",
    "## OOP: clases y objetos\n",
    "perfecto, hasta que tenemos que usar varios procesadores. Lock/mutex nos restringen el uso de multiples procesadores\n",
    "\n",
    "## Funcional\n",
    "Incomodo y dificil de razonar en un principio. El mejor camino para sacarle el mejor performance a multiples procesadores"
   ]
  },
  {
   "cell_type": "markdown",
   "metadata": {},
   "source": [
    "# MapReduce como simplificacion de la computacion distribuida\n",
    "¿Como procesarias bigdata, si solo pudieras usar personas para procesar todo?\n",
    "\n",
    "* Enseñar a cada uno como procesar los datos (funcion/algoritmia)\n",
    "* Fraccionar el trabajo (en chunks) para poder distribuir parte de los datos a cada usuario (shuffle)\n",
    "* Enviar datos a los usuarios para que los procesen y nos devuelva el resultado (Map o Reduce)\n",
    "* Juntar todos los datos\n",
    "\n",
    "## Map: N -> N (chunk -> chunk)\n",
    "\n",
    "## Reduce: N -> 1 (chunk -> dato)\n",
    "\n",
    "\n",
    "# Reglas para distribuir el trabajo\n",
    "\n",
    "## Funciones puras\n",
    "Cada dato debe ser calculado independiente de los datos anteriores, para evitar dependencias\n",
    "\n",
    "## No usar excepciones\n",
    "Se deben capturar los errores sin que esos arrojen una excepcion al sistema (o uno de los trabajadores podria caerse y dejar el trabajo en un estado incierto).\n",
    "Los monad (Option/Try) nos facilitan esta tarea (su explicacion en unos minutos)"
   ]
  },
  {
   "cell_type": "markdown",
   "metadata": {},
   "source": []
  },
  {
   "cell_type": "code",
   "execution_count": null,
   "metadata": {},
   "outputs": [],
   "source": [
    "Cada per"
   ]
  }
 ],
 "metadata": {
  "kernelspec": {
   "display_name": "Scala 2.13",
   "language": "scala",
   "name": "scala213"
  },
  "language_info": {
   "codemirror_mode": "text/x-scala",
   "file_extension": ".sc",
   "mimetype": "text/x-scala",
   "name": "scala",
   "nbconvert_exporter": "script",
   "version": "2.13.3"
  }
 },
 "nbformat": 4,
 "nbformat_minor": 4
}
