{
 "cells": [
  {
   "cell_type": "markdown",
   "metadata": {},
   "source": [
    "# Indice\n",
    "\n",
    "* Mi viaje en programacion: procedural -> orientada a objetos -> funcional\n",
    "* MapReduce como simplificacion de la computacion distribuida\n",
    "* Reglas para distribuir el trabajo:\n",
    "    * Funciones puras (sin mutabilidad)\n",
    "    * Sin Excepciones (Monads: Option y Try)\n",
    "* Practica local\n",
    "    * map\n",
    "    * flatMap\n",
    "    * reduce\n",
    "    * Mutabilidad y condiciones de carrera\n",
    "    * manejo de excepciones\n",
    "* En streaming\n",
    "    * akka-streams\n",
    "    * dataflow / scio\n",
    "    * apache spark"
   ]
  },
  {
   "cell_type": "markdown",
   "metadata": {},
   "source": [
    "# Mi viaje: Basic -> C# -> Scala\n",
    "\n",
    "## Procedural\n",
    "GOTO?\n",
    "\n",
    "## OOP: clases y objetos\n",
    "perfecto, hasta que tenemos que usar varios procesadores. Lock/mutex nos restringen el uso de multiples procesadores\n",
    "\n",
    "## Funcional\n",
    "Incomodo y dificil de razonar en un principio. El mejor camino para sacarle el mejor performance a multiples procesadores"
   ]
  },
  {
   "cell_type": "markdown",
   "metadata": {},
   "source": [
    "# MapReduce como simplificacion de la computacion distribuida\n",
    "¿Como procesarias bigdata, si solo pudieras usar personas para procesar todo?\n",
    "\n",
    "* Enseñar a cada uno como procesar los datos (funcion/algoritmia)\n",
    "* Fraccionar el trabajo (en chunks) para poder distribuir parte de los datos a cada usuario (shuffle)\n",
    "* Enviar datos a los usuarios para que los procesen y nos devuelva el resultado (Map o Reduce)\n",
    "* Juntar todos los datos\n",
    "\n",
    "## Map: N -> N (chunk -> chunk)\n",
    "Entrar N registros y sale la misma cantidad\n",
    "\n",
    "## Reduce: N -> M (chunk -> dato)\n",
    "Entra N registros y sale M registros. Muchas veces sale 1 solo registro por chunk\n",
    "\n",
    "\n",
    "# Reglas para distribuir el trabajo\n",
    "\n",
    "## Funciones puras\n",
    "Cada dato debe ser calculado independiente de los datos anteriores, para evitar dependencias y condiciones de carrera\n",
    "\n",
    "## No usar excepciones\n",
    "Se deben capturar los errores sin que esos arrojen una excepcion al sistema (o uno de los trabajadores podria caerse y dejar el trabajo en un estado incierto).\n",
    "Los monad (Option/Try) nos facilitan esta tarea (su explicacion en unos minutos)"
   ]
  },
  {
   "cell_type": "markdown",
   "metadata": {},
   "source": [
    "# Practica local"
   ]
  },
  {
   "cell_type": "code",
   "execution_count": null,
   "metadata": {},
   "outputs": [],
   "source": [
    "// Carguemos dependencias\n",
    "import $ivy.`org.scala-lang.modules:scala-parallel-collections_2.13:1.0.3`\n",
    "import scala.collection.parallel.CollectionConverters._\n",
    "\n",
    "import scala.util.{Try, Success, Failure}"
   ]
  },
  {
   "cell_type": "markdown",
   "metadata": {},
   "source": [
    "## map"
   ]
  },
  {
   "cell_type": "code",
   "execution_count": null,
   "metadata": {},
   "outputs": [],
   "source": [
    "val duplica: Int => Int = { i => i * 2 }\n",
    "def triplica(v: Int): Int = v * 3\n",
    "\n",
    "(1 to 10).map(duplica)\n",
    "(1 to 10).map(triplica)"
   ]
  },
  {
   "cell_type": "code",
   "execution_count": null,
   "metadata": {},
   "outputs": [],
   "source": [
    "def aumenta(n:Int)(v: Int): Int = n * v\n",
    "\n",
    "(1 to 10).map(aumenta(2))\n",
    "(1 to 10).map(aumenta(3))"
   ]
  },
  {
   "cell_type": "code",
   "execution_count": null,
   "metadata": {},
   "outputs": [],
   "source": [
    "val cuatriplica = aumenta(4)(_)\n",
    "\n",
    "(1 to 10).map(cuatriplica)"
   ]
  },
  {
   "cell_type": "markdown",
   "metadata": {},
   "source": [
    "## flatMap"
   ]
  },
  {
   "cell_type": "code",
   "execution_count": null,
   "metadata": {},
   "outputs": [],
   "source": [
    "val censo = List (\n",
    "    \"onka,panda,quimera\", // casa 1\n",
    "    \"monty\", // casa 2\n",
    "    \"canaima\", // casa 3\n",
    "    \"obi,max\" // casa 4\n",
    ")\n",
    "\n",
    "censo.map { perros => perros.split(\",\") }"
   ]
  },
  {
   "cell_type": "code",
   "execution_count": null,
   "metadata": {},
   "outputs": [],
   "source": [
    "censo.map { perros => perros.split(\",\") }.flatten"
   ]
  },
  {
   "cell_type": "code",
   "execution_count": null,
   "metadata": {},
   "outputs": [],
   "source": [
    "censo.flatMap { perros => perros.split(\",\") }"
   ]
  },
  {
   "cell_type": "markdown",
   "metadata": {},
   "source": [
    "## reduce"
   ]
  },
  {
   "cell_type": "code",
   "execution_count": null,
   "metadata": {},
   "outputs": [],
   "source": [
    "val edades = {    \n",
    "    val rnd = new java.util.Random\n",
    "    \n",
    "    (1 to 10).map { i =>\n",
    "        val value = rnd.nextInt % 75\n",
    "        \n",
    "        if (value > 0)\n",
    "            value\n",
    "        else\n",
    "            value * -1\n",
    "    }\n",
    "}\n",
    "\n",
    "val maximo: (Int, Int) => Int = { case (a, b) => if(a > b) a else b }\n",
    "val minimo: (Int, Int) => Int = { case (a, b) => if(a < b) a else b }\n",
    "val suma: (Int, Int) => Int = _ + _\n",
    "\n",
    "edades.reduce(maximo)\n",
    "edades.reduce(minimo)\n",
    "edades.reduce(suma)"
   ]
  },
  {
   "cell_type": "code",
   "execution_count": null,
   "metadata": {},
   "outputs": [],
   "source": [
    "edades.par.reduce(maximo)\n",
    "edades.par.reduce(minimo)\n",
    "edades.par.reduce(suma)"
   ]
  },
  {
   "cell_type": "markdown",
   "metadata": {},
   "source": [
    "## Mutabilidad y condiciones de carrera"
   ]
  },
  {
   "cell_type": "code",
   "execution_count": null,
   "metadata": {},
   "outputs": [],
   "source": [
    "val numTuplas = 8\n",
    "val testTupla =\n",
    "    (1 to numTuplas).map { _ => (1, 2) } ++\n",
    "    (1 to numTuplas).map { _ => (2, 3) }"
   ]
  },
  {
   "cell_type": "code",
   "execution_count": null,
   "metadata": {},
   "outputs": [],
   "source": [
    "// funcion pura\n",
    "def suma(a: Int, b: Int) = a + b\n",
    "\n",
    "testTupla.map { case (a,b) => suma(a, b) }"
   ]
  },
  {
   "cell_type": "code",
   "execution_count": null,
   "metadata": {},
   "outputs": [],
   "source": [
    "testTupla.par.map { case (a,b) => suma(a, b) }"
   ]
  },
  {
   "cell_type": "code",
   "execution_count": null,
   "metadata": {},
   "outputs": [],
   "source": [
    "// funcion impura\n",
    "var acumulado = 0\n",
    "def acumula(a: Int) = {\n",
    "    acumulado = acumulado + a\n",
    "    \n",
    "    acumulado\n",
    "}\n",
    "\n",
    "testTupla.map { case (a,b) => acumula(a) }"
   ]
  },
  {
   "cell_type": "code",
   "execution_count": null,
   "metadata": {},
   "outputs": [],
   "source": [
    "// reseteamos acumulador\n",
    "acumulado = 0\n",
    "testTupla.par.map { case (a,b) => acumula(a) }"
   ]
  },
  {
   "cell_type": "markdown",
   "metadata": {},
   "source": [
    "## Manejo de excepciones"
   ]
  },
  {
   "cell_type": "code",
   "execution_count": null,
   "metadata": {},
   "outputs": [],
   "source": [
    "val intText = List(\"1\", \"2\", \"3\", \"cuatro\", \"5\", \"-1\")"
   ]
  },
  {
   "cell_type": "code",
   "execution_count": null,
   "metadata": {},
   "outputs": [],
   "source": [
    "intText.map { t => t.toInt }"
   ]
  },
  {
   "cell_type": "code",
   "execution_count": null,
   "metadata": {},
   "outputs": [],
   "source": [
    "intText.map{ i => try {\n",
    "        i.toInt\n",
    "    } catch {\n",
    "        // que devuelvo si no puedo procesar\n",
    "        case ex: Throwable => -1\n",
    "    }\n",
    "}"
   ]
  },
  {
   "cell_type": "code",
   "execution_count": null,
   "metadata": {},
   "outputs": [],
   "source": [
    "intText.map { i => Try { i.toInt } }"
   ]
  },
  {
   "cell_type": "code",
   "execution_count": null,
   "metadata": {},
   "outputs": [],
   "source": [
    "intText.map { i => Try { i.toInt }.toOption }\n",
    "intText.flatMap { i => Try { i.toInt }.toOption }"
   ]
  },
  {
   "cell_type": "markdown",
   "metadata": {},
   "source": [
    "# En streaming\n",
    "\n",
    "## akka-streams\n",
    "vamos al notebook akka-streams!\n",
    "\n",
    "## dataflow / scio y apache spark\n",
    "ambos siguen los mismos principios de programacion funcional"
   ]
  }
 ],
 "metadata": {
  "kernelspec": {
   "display_name": "Scala 2.13",
   "language": "scala",
   "name": "scala213"
  },
  "language_info": {
   "codemirror_mode": "text/x-scala",
   "file_extension": ".sc",
   "mimetype": "text/x-scala",
   "name": "scala",
   "nbconvert_exporter": "script",
   "version": "2.13.3"
  }
 },
 "nbformat": 4,
 "nbformat_minor": 4
}
