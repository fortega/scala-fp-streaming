{
 "cells": [
  {
   "cell_type": "markdown",
   "metadata": {},
   "source": [
    "# Indice\n",
    "\n",
    "* Mis inicios en programacion funcional: procedural -> orientada a objetos -> funcional\n",
    "* MapReduce como simplificacion de la computacion distribuida\n",
    "* Basics:\n",
    "    * Funciones puras (solo contantes)\n",
    "    * Sin Excepciones (Monads: Option y Try)\n",
    "* Practica local\n",
    "    * Colecciones inmutables: List\n",
    "    * map\n",
    "    * flatMap\n",
    "    * reduce\n",
    "* En streaming\n",
    "    * akka-streams\n",
    "    * dataflow / scio\n",
    "    * apache spark"
   ]
  },
  {
   "cell_type": "code",
   "execution_count": null,
   "metadata": {},
   "outputs": [],
   "source": []
  }
 ],
 "metadata": {
  "kernelspec": {
   "display_name": "Scala 2.13",
   "language": "scala",
   "name": "scala213"
  },
  "language_info": {
   "codemirror_mode": "text/x-scala",
   "file_extension": ".sc",
   "mimetype": "text/x-scala",
   "name": "scala",
   "nbconvert_exporter": "script",
   "version": "2.13.3"
  }
 },
 "nbformat": 4,
 "nbformat_minor": 4
}
