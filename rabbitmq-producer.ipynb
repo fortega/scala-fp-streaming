{
 "cells": [
  {
   "cell_type": "code",
   "execution_count": 1,
   "metadata": {
    "collapsed": true
   },
   "outputs": [
    {
     "data": {
      "text/plain": [
       "\u001b[32mimport \u001b[39m\u001b[36m$ivy.$                                \n",
       "\u001b[39m\n",
       "\u001b[32mimport \u001b[39m\u001b[36mcom.rabbitmq.client.{ ConnectionFactory, Channel }\u001b[39m"
      ]
     },
     "execution_count": 1,
     "metadata": {},
     "output_type": "execute_result"
    }
   ],
   "source": [
    "import $ivy.`com.rabbitmq:amqp-client:5.12.0`\n",
    "import com.rabbitmq.client.{ ConnectionFactory, Channel }"
   ]
  },
  {
   "cell_type": "code",
   "execution_count": 2,
   "metadata": {
    "collapsed": true
   },
   "outputs": [
    {
     "data": {
      "text/plain": [
       "defined \u001b[32mtype\u001b[39m \u001b[36mRabbitPublisher\u001b[39m\n",
       "defined \u001b[32mfunction\u001b[39m \u001b[36mcreatePublisher\u001b[39m"
      ]
     },
     "execution_count": 2,
     "metadata": {},
     "output_type": "execute_result"
    }
   ],
   "source": [
    "type RabbitPublisher = Array[Byte] => Unit\n",
    "\n",
    "def createPublisher(\n",
    "    host: String,\n",
    "    port: Int,\n",
    "    queue: String,\n",
    "    exchange: String = \"\"\n",
    "): RabbitPublisher = {\n",
    "    val channel = {\n",
    "        var cf = new ConnectionFactory()\n",
    "        cf.setHost(host)\n",
    "        cf.setPort(port)\n",
    "\n",
    "        cf.newConnection.createChannel\n",
    "    }\n",
    "    \n",
    "    bytes => channel.basicPublish(exchange, queue, null, bytes);\n",
    "}"
   ]
  },
  {
   "cell_type": "code",
   "execution_count": 3,
   "metadata": {
    "collapsed": true
   },
   "outputs": [
    {
     "name": "stderr",
     "output_type": "stream",
     "text": [
      "SLF4J: Failed to load class \"org.slf4j.impl.StaticLoggerBinder\".\n",
      "SLF4J: Defaulting to no-operation (NOP) logger implementation\n",
      "SLF4J: See http://www.slf4j.org/codes.html#StaticLoggerBinder for further details.\n"
     ]
    },
    {
     "data": {
      "text/plain": [
       "\u001b[36mpublisher\u001b[39m: \u001b[32mArray\u001b[39m[\u001b[32mByte\u001b[39m] => \u001b[32mUnit\u001b[39m = ammonite.$sess.cmd1$Helper$$Lambda$2464/210388565@8022be6"
      ]
     },
     "execution_count": 3,
     "metadata": {},
     "output_type": "execute_result"
    }
   ],
   "source": [
    "val publisher = createPublisher(host = \"rabbit\", port = 5672, queue = \"test\")"
   ]
  },
  {
   "cell_type": "code",
   "execution_count": 4,
   "metadata": {},
   "outputs": [
    {
     "data": {
      "text/plain": [
       "\u001b[36mtextos\u001b[39m: \u001b[32mIndexedSeq\u001b[39m[\u001b[32mString\u001b[39m] = \u001b[33mVector\u001b[39m(\n",
       "  \u001b[32m\"hola mundo 1\"\u001b[39m,\n",
       "  \u001b[32m\"hola mundo 2\"\u001b[39m,\n",
       "  \u001b[32m\"hola mundo 3\"\u001b[39m,\n",
       "  \u001b[32m\"hola mundo 4\"\u001b[39m,\n",
       "  \u001b[32m\"hola mundo 5\"\u001b[39m,\n",
       "  \u001b[32m\"hola mundo 6\"\u001b[39m,\n",
       "  \u001b[32m\"hola mundo 7\"\u001b[39m,\n",
       "  \u001b[32m\"hola mundo 8\"\u001b[39m,\n",
       "  \u001b[32m\"hola mundo 9\"\u001b[39m,\n",
       "  \u001b[32m\"hola mundo 10\"\u001b[39m\n",
       ")\n",
       "\u001b[36mbytes\u001b[39m: \u001b[32mIndexedSeq\u001b[39m[\u001b[32mArray\u001b[39m[\u001b[32mByte\u001b[39m]] = \u001b[33mVector\u001b[39m(\n",
       "  \u001b[33mArray\u001b[39m(\u001b[32m104\u001b[39m, \u001b[32m111\u001b[39m, \u001b[32m108\u001b[39m, \u001b[32m97\u001b[39m, \u001b[32m32\u001b[39m, \u001b[32m109\u001b[39m, \u001b[32m117\u001b[39m, \u001b[32m110\u001b[39m, \u001b[32m100\u001b[39m, \u001b[32m111\u001b[39m, \u001b[32m32\u001b[39m, \u001b[32m49\u001b[39m),\n",
       "  \u001b[33mArray\u001b[39m(\u001b[32m104\u001b[39m, \u001b[32m111\u001b[39m, \u001b[32m108\u001b[39m, \u001b[32m97\u001b[39m, \u001b[32m32\u001b[39m, \u001b[32m109\u001b[39m, \u001b[32m117\u001b[39m, \u001b[32m110\u001b[39m, \u001b[32m100\u001b[39m, \u001b[32m111\u001b[39m, \u001b[32m32\u001b[39m, \u001b[32m50\u001b[39m),\n",
       "  \u001b[33mArray\u001b[39m(\u001b[32m104\u001b[39m, \u001b[32m111\u001b[39m, \u001b[32m108\u001b[39m, \u001b[32m97\u001b[39m, \u001b[32m32\u001b[39m, \u001b[32m109\u001b[39m, \u001b[32m117\u001b[39m, \u001b[32m110\u001b[39m, \u001b[32m100\u001b[39m, \u001b[32m111\u001b[39m, \u001b[32m32\u001b[39m, \u001b[32m51\u001b[39m),\n",
       "  \u001b[33mArray\u001b[39m(\u001b[32m104\u001b[39m, \u001b[32m111\u001b[39m, \u001b[32m108\u001b[39m, \u001b[32m97\u001b[39m, \u001b[32m32\u001b[39m, \u001b[32m109\u001b[39m, \u001b[32m117\u001b[39m, \u001b[32m110\u001b[39m, \u001b[32m100\u001b[39m, \u001b[32m111\u001b[39m, \u001b[32m32\u001b[39m, \u001b[32m52\u001b[39m),\n",
       "  \u001b[33mArray\u001b[39m(\u001b[32m104\u001b[39m, \u001b[32m111\u001b[39m, \u001b[32m108\u001b[39m, \u001b[32m97\u001b[39m, \u001b[32m32\u001b[39m, \u001b[32m109\u001b[39m, \u001b[32m117\u001b[39m, \u001b[32m110\u001b[39m, \u001b[32m100\u001b[39m, \u001b[32m111\u001b[39m, \u001b[32m32\u001b[39m, \u001b[32m53\u001b[39m),\n",
       "  \u001b[33mArray\u001b[39m(\u001b[32m104\u001b[39m, \u001b[32m111\u001b[39m, \u001b[32m108\u001b[39m, \u001b[32m97\u001b[39m, \u001b[32m32\u001b[39m, \u001b[32m109\u001b[39m, \u001b[32m117\u001b[39m, \u001b[32m110\u001b[39m, \u001b[32m100\u001b[39m, \u001b[32m111\u001b[39m, \u001b[32m32\u001b[39m, \u001b[32m54\u001b[39m),\n",
       "  \u001b[33mArray\u001b[39m(\u001b[32m104\u001b[39m, \u001b[32m111\u001b[39m, \u001b[32m108\u001b[39m, \u001b[32m97\u001b[39m, \u001b[32m32\u001b[39m, \u001b[32m109\u001b[39m, \u001b[32m117\u001b[39m, \u001b[32m110\u001b[39m, \u001b[32m100\u001b[39m, \u001b[32m111\u001b[39m, \u001b[32m32\u001b[39m, \u001b[32m55\u001b[39m),\n",
       "  \u001b[33mArray\u001b[39m(\u001b[32m104\u001b[39m, \u001b[32m111\u001b[39m, \u001b[32m108\u001b[39m, \u001b[32m97\u001b[39m, \u001b[32m32\u001b[39m, \u001b[32m109\u001b[39m, \u001b[32m117\u001b[39m, \u001b[32m110\u001b[39m, \u001b[32m100\u001b[39m, \u001b[32m111\u001b[39m, \u001b[32m32\u001b[39m, \u001b[32m56\u001b[39m),\n",
       "  \u001b[33mArray\u001b[39m(\u001b[32m104\u001b[39m, \u001b[32m111\u001b[39m, \u001b[32m108\u001b[39m, \u001b[32m97\u001b[39m, \u001b[32m32\u001b[39m, \u001b[32m109\u001b[39m, \u001b[32m117\u001b[39m, \u001b[32m110\u001b[39m, \u001b[32m100\u001b[39m, \u001b[32m111\u001b[39m, \u001b[32m32\u001b[39m, \u001b[32m57\u001b[39m),\n",
       "  \u001b[33mArray\u001b[39m(\u001b[32m104\u001b[39m, \u001b[32m111\u001b[39m, \u001b[32m108\u001b[39m, \u001b[32m97\u001b[39m, \u001b[32m32\u001b[39m, \u001b[32m109\u001b[39m, \u001b[32m117\u001b[39m, \u001b[32m110\u001b[39m, \u001b[32m100\u001b[39m, \u001b[32m111\u001b[39m, \u001b[32m32\u001b[39m, \u001b[32m49\u001b[39m, \u001b[32m48\u001b[39m)\n",
       ")"
      ]
     },
     "execution_count": 4,
     "metadata": {},
     "output_type": "execute_result"
    }
   ],
   "source": [
    "val textos = (1 to 10).map { i => s\"hola mundo $i\" }\n",
    "val bytes = textos.map { t => t.getBytes}\n",
    "\n",
    "bytes.foreach(publisher)"
   ]
  },
  {
   "cell_type": "code",
   "execution_count": null,
   "metadata": {},
   "outputs": [],
   "source": []
  }
 ],
 "metadata": {
  "kernelspec": {
   "display_name": "Scala 2.13",
   "language": "scala",
   "name": "scala213"
  },
  "language_info": {
   "codemirror_mode": "text/x-scala",
   "file_extension": ".sc",
   "mimetype": "text/x-scala",
   "name": "scala",
   "nbconvert_exporter": "script",
   "version": "2.13.3"
  }
 },
 "nbformat": 4,
 "nbformat_minor": 4
}
