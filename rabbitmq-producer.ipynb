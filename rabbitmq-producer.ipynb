{
 "cells": [
  {
   "cell_type": "code",
   "execution_count": null,
   "metadata": {},
   "outputs": [],
   "source": [
    "import $ivy.`com.rabbitmq:amqp-client:5.12.0`\n",
    "import com.rabbitmq.client.{ ConnectionFactory, Channel }"
   ]
  },
  {
   "cell_type": "code",
   "execution_count": null,
   "metadata": {},
   "outputs": [],
   "source": [
    "type RabbitPublisher = Array[Byte] => Unit\n",
    "\n",
    "def createPublisher(\n",
    "    host: String,\n",
    "    port: Int,\n",
    "    queue: String,\n",
    "    exchange: String = \"\"\n",
    "): RabbitPublisher = {\n",
    "    val channel = {\n",
    "        var cf = new ConnectionFactory()\n",
    "        cf.setHost(host)\n",
    "        cf.setPort(port)\n",
    "\n",
    "        cf.newConnection.createChannel\n",
    "    }\n",
    "    \n",
    "    bytes => channel.basicPublish(exchange, queue, null, bytes);\n",
    "}"
   ]
  },
  {
   "cell_type": "code",
   "execution_count": null,
   "metadata": {},
   "outputs": [],
   "source": [
    "val publisher = createPublisher(\"rabbit\", 5672, \"test\")"
   ]
  },
  {
   "cell_type": "code",
   "execution_count": null,
   "metadata": {},
   "outputs": [],
   "source": [
    "val textos = (1 to 10).map { i => s\"hola mundo $i\" }\n",
    "val bytes = textos.map { t => t.getBytes}\n",
    "\n",
    "bytes.foreach(publisher)"
   ]
  },
  {
   "cell_type": "code",
   "execution_count": null,
   "metadata": {},
   "outputs": [],
   "source": []
  }
 ],
 "metadata": {
  "kernelspec": {
   "display_name": "Scala 2.13",
   "language": "scala",
   "name": "scala213"
  },
  "language_info": {
   "codemirror_mode": "text/x-scala",
   "file_extension": ".sc",
   "mimetype": "text/x-scala",
   "name": "scala",
   "nbconvert_exporter": "script",
   "version": "2.13.3"
  }
 },
 "nbformat": 4,
 "nbformat_minor": 4
}
